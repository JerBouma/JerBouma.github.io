{
 "cells": [
  {
   "cell_type": "code",
   "execution_count": 2,
   "id": "b3d9f475",
   "metadata": {},
   "outputs": [],
   "source": [
    "import pandas as pd"
   ]
  },
  {
   "cell_type": "code",
   "execution_count": 3,
   "id": "72837a57",
   "metadata": {},
   "outputs": [],
   "source": [
    "def get_gross_margin(revenue: pd.Series, cost_of_goods_sold: pd.Series) -> pd.Series:\n",
    "    \"\"\"\n",
    "    Calculate the gross margin, a profitability ratio that measures the percentage of\n",
    "    revenue that exceeds the cost of goods sold.\n",
    "\n",
    "    Args:\n",
    "        revenue (float or pd.Series): Total revenue of the company.\n",
    "        cost_of_goods_sold (float or pd.Series): Total cost of goods sold of the company.\n",
    "\n",
    "    Returns:\n",
    "        float | pd.Series: The gross margin percentage value.\n",
    "    \"\"\"\n",
    "    return (revenue - cost_of_goods_sold) / revenue"
   ]
  },
  {
   "cell_type": "code",
   "execution_count": 4,
   "id": "e574daba",
   "metadata": {},
   "outputs": [],
   "source": [
    "def plot_gross_margin(gross_margin: pd.Series) -> pd.Series:\n",
    "    \"\"\"\n",
    "    Plot the gross margin, a profitability ratio that measures the percentage of\n",
    "    revenue that exceeds the cost of goods sold.\n",
    "\n",
    "    Args:\n",
    "        gross_margin (pd.Series): Gross Margin of the company.\n",
    "\n",
    "    Returns:\n",
    "        A plot of the gross margin.\n",
    "    \"\"\"\n",
    "    gross_margin.plot(\n",
    "        kind=\"bar\",\n",
    "        title=\"Gross Margin\",\n",
    "        ylabel=\"Gross Margin (%)\",\n",
    "        xlabel=\"Date\",\n",
    "        color=\"green\"\n",
    "    )"
   ]
  },
  {
   "cell_type": "code",
   "execution_count": 5,
   "id": "62d94f7e",
   "metadata": {},
   "outputs": [],
   "source": [
    "def calculate_growth(\n",
    "    dataset: pd.Series | pd.DataFrame,\n",
    "    lag: int | list[int] = 1,\n",
    "    rounding: int | None = 4,\n",
    "    axis: str = \"columns\",\n",
    ") -> pd.Series | pd.DataFrame:\n",
    "    \"\"\"\n",
    "    Calculates growth for a given dataset. Defaults to a lag of 1 (i.e. 1 year or 1 quarter).\n",
    "\n",
    "    Args:\n",
    "        dataset (pd.Series | pd.DataFrame): the dataset to calculate the growth values for.\n",
    "        lag (int | str): the lag to use for the calculation. Defaults to 1.\n",
    "        rounding (int | None): the number of decimals to round the results to. Defaults to 4.\n",
    "        axis (str): the axis to use for the calculation. Defaults to \"columns\".\n",
    "\n",
    "    Returns:\n",
    "        pd.Series | pd.DataFrame: _description_\n",
    "    \"\"\"\n",
    "    return dataset.pct_change(periods=lag, axis=axis).round(rounding)"
   ]
  },
  {
   "cell_type": "code",
   "execution_count": 6,
   "id": "8483a8da",
   "metadata": {},
   "outputs": [],
   "source": [
    "def obtain_gross_margin(\n",
    "    rounding: int | None = 4,\n",
    "    growth: bool = False,\n",
    "    lag: int | list[int] = 1,\n",
    "    plot: bool = False,\n",
    "    axis: str = \"rows\",\n",
    ") -> pd.DataFrame:\n",
    "    \"\"\"\n",
    "    Calculate the gross margin, a profitability ratio that measures the percentage of\n",
    "    revenue that exceeds the cost of goods sold.\n",
    "\n",
    "    The gross margin ratio is calculated by subtracting the cost of goods sold (COGS) from\n",
    "    the total revenue and then dividing the result by the total revenue. It represents the\n",
    "    portion of revenue that contributes to covering other expenses and generating profit.\n",
    "\n",
    "    The formula is as follows:\n",
    "\n",
    "        Gross Margin Ratio = (Revenue - Cost of Goods Sold) / Revenue\n",
    "\n",
    "    Args:\n",
    "        rounding (int, optional): The number of decimals to round the results to. Defaults to 4.\n",
    "        growth (bool, optional): Whether to calculate the growth of the ratios. Defaults to False.\n",
    "        lag (int | str, optional): The lag to use for the growth calculation. Defaults to 1.\n",
    "        plot (bool, optional): Whether to plot the results. Defaults to False.\n",
    "        axis (str, optional): The axis to use for the growth calculation. Defaults to \"rows\".\n",
    "\n",
    "    Returns:\n",
    "        pd.DataFrame | pd.Series: Gross margin ratio values.\n",
    "    \"\"\"\n",
    "    gross_margin = get_gross_margin(\n",
    "            income_statement.loc[\"Revenue\"],\n",
    "            income_statement.loc[\"Cost of Goods Sold\"],\n",
    "        )\n",
    "\n",
    "    if growth:\n",
    "        gross_margin_growth = calculate_growth(\n",
    "            gross_margin, lag=lag, rounding=rounding, axis=axis\n",
    "        )\n",
    "\n",
    "        if plot:\n",
    "            plot_gross_margin(gross_margin_growth)\n",
    "\n",
    "        return gross_margin_growth\n",
    "    \n",
    "    if plot:\n",
    "        plot_gross_margin(gross_margin)\n",
    "\n",
    "    return gross_margin.round(rounding)"
   ]
  },
  {
   "cell_type": "code",
   "execution_count": 7,
   "id": "35745a90",
   "metadata": {},
   "outputs": [],
   "source": [
    "income_statement = pd.DataFrame(\n",
    "    index=[\"Revenue\", \"Cost of Goods Sold\"],\n",
    "    columns=[\"2016\", \"2017\", \"2018\", \"2019\", \"2020\"],\n",
    "    data=[[100, 110, 120, 130, 80], [50, 60, 70, 80, 40]])"
   ]
  },
  {
   "cell_type": "code",
   "execution_count": 12,
   "id": "03628da2",
   "metadata": {},
   "outputs": [
    {
     "data": {
      "text/plain": [
       "2016    0.5000\n",
       "2017    0.4545\n",
       "2018    0.4167\n",
       "2019    0.3846\n",
       "2020    0.5000\n",
       "dtype: float64"
      ]
     },
     "execution_count": 12,
     "metadata": {},
     "output_type": "execute_result"
    },
    {
     "data": {
      "image/png": "[encoded data removed]",
      "text/plain": [
       "<Figure size 640x480 with 1 Axes>"
      ]
     },
     "metadata": {},
     "output_type": "display_data"
    }
   ],
   "source": [
    "obtain_gross_margin(plot=True)"
   ]
  },
  {
   "cell_type": "code",
   "execution_count": null,
   "id": "7954d819",
   "metadata": {},
   "outputs": [],
   "source": []
  }
 ],
 "metadata": {
  "kernelspec": {
   "display_name": "Python 3 (ipykernel)",
   "language": "python",
   "name": "python3"
  },
  "language_info": {
   "codemirror_mode": {
    "name": "ipython",
    "version": 3
   },
   "file_extension": ".py",
   "mimetype": "text/x-python",
   "name": "python",
   "nbconvert_exporter": "python",
   "pygments_lexer": "ipython3",
   "version": "3.10.9"
  }
 },
 "nbformat": 4,
 "nbformat_minor": 5
}
